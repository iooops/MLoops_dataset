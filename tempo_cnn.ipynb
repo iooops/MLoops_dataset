{
 "cells": [
  {
   "cell_type": "code",
   "execution_count": 1,
   "metadata": {},
   "outputs": [],
   "source": [
    "from multiprocessing import Pool\n",
    "import os, json\n",
    "from tqdm import tqdm"
   ]
  },
  {
   "cell_type": "code",
   "execution_count": 10,
   "metadata": {},
   "outputs": [],
   "source": [
    "\n",
    "from tempocnn.classifier import TempoClassifier\n",
    "from tempocnn.feature import read_features\n",
    "\n",
    "model_name = 'cnn'\n",
    "\n",
    "# initialize the model (may be re-used for multiple files)\n",
    "classifier = TempoClassifier(model_name)\n"
   ]
  },
  {
   "cell_type": "code",
   "execution_count": null,
   "metadata": {},
   "outputs": [],
   "source": [
    "# Replace with your own directory\n",
    "os.environ['MLOOPS_DIR'] = '../../dataset/mloops'"
   ]
  },
  {
   "cell_type": "code",
   "execution_count": 8,
   "metadata": {},
   "outputs": [],
   "source": [
    "f = open(os.environ['MLOOPS_DIR'] + '/metadata.json')\n",
    "data = json.load(f)\n"
   ]
  },
  {
   "cell_type": "code",
   "execution_count": 9,
   "metadata": {},
   "outputs": [],
   "source": [
    "def get_tempo(d):\n",
    "    gt_tempo = d['info']['BPM']\n",
    "    base_path = os.environ['MLOOPS_DIR']\n",
    "    features = read_features(os.path.join(base_path, d['file_path']))\n",
    "    tempo = classifier.estimate_tempo(features, interpolate=False)\n",
    "    return (float(gt_tempo), tempo)"
   ]
  },
  {
   "cell_type": "code",
   "execution_count": 5,
   "metadata": {},
   "outputs": [
    {
     "name": "stderr",
     "output_type": "stream",
     "text": [
      "100%|██████████| 7370/7370 [1:19:23<00:00,  1.55it/s]  \n"
     ]
    }
   ],
   "source": [
    "tempos = []\n",
    "\n",
    "for d in tqdm(data):\n",
    "    tempos.append(get_tempo(d))"
   ]
  },
  {
   "cell_type": "code",
   "execution_count": 11,
   "metadata": {},
   "outputs": [],
   "source": [
    "accuracy = len(list(filter(lambda t: abs(t[0] - t[1]) < t[0] * 0.04, tempos))) / len(tempos)\n",
    "\n",
    "accuracy2 = len(list(filter(lambda t: abs(t[0] - t[1]) < t[0] * 0.04 or abs(t[0]/2 - t[1]) < t[0] * 0.04 or abs(t[0]/3 - t[1]) < t[0] * 0.04 or abs(t[0]*2 - t[1]) < t[0] * 0.04 or abs(t[0]*3 - t[1]) < t[0] * 0.04, tempos))) / len(tempos)\n",
    "\n",
    "accuracy_e = len(list(filter(lambda t: int(t[0]) == round(t[1]), tempos))) / len(tempos)"
   ]
  },
  {
   "cell_type": "code",
   "execution_count": 12,
   "metadata": {},
   "outputs": [
    {
     "data": {
      "text/plain": [
       "(0.4400271370420624, 0.8116689280868385, 0.19905020352781547)"
      ]
     },
     "execution_count": 12,
     "metadata": {},
     "output_type": "execute_result"
    }
   ],
   "source": [
    "accuracy, accuracy2, accuracy_e"
   ]
  },
  {
   "cell_type": "code",
   "execution_count": null,
   "metadata": {},
   "outputs": [],
   "source": []
  }
 ],
 "metadata": {
  "kernelspec": {
   "display_name": "audiocaps",
   "language": "python",
   "name": "python3"
  },
  "language_info": {
   "codemirror_mode": {
    "name": "ipython",
    "version": 3
   },
   "file_extension": ".py",
   "mimetype": "text/x-python",
   "name": "python",
   "nbconvert_exporter": "python",
   "pygments_lexer": "ipython3",
   "version": "3.7.16"
  }
 },
 "nbformat": 4,
 "nbformat_minor": 2
}
